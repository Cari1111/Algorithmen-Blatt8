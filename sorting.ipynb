{
 "cells": [
  {
   "cell_type": "markdown",
   "metadata": {},
   "source": [
    "# Notebook zu Blatt 8"
   ]
  },
  {
   "cell_type": "code",
   "execution_count": 13,
   "metadata": {},
   "outputs": [
    {
     "name": "stderr",
     "output_type": "stream",
     "text": [
      "Der Befehl \"pip\" ist entweder falsch geschrieben oder\n",
      "konnte nicht gefunden werden.\n"
     ]
    }
   ],
   "source": [
    "!pip install numpy seaborn"
   ]
  },
  {
   "cell_type": "code",
   "execution_count": 14,
   "metadata": {},
   "outputs": [
    {
     "ename": "ModuleNotFoundError",
     "evalue": "No module named 'numpy'",
     "output_type": "error",
     "traceback": [
      "\u001b[1;31m---------------------------------------------------------------------------\u001b[0m",
      "\u001b[1;31mModuleNotFoundError\u001b[0m                       Traceback (most recent call last)",
      "Cell \u001b[1;32mIn[14], line 1\u001b[0m\n\u001b[1;32m----> 1\u001b[0m \u001b[39mimport\u001b[39;00m \u001b[39mnumpy\u001b[39;00m \u001b[39mas\u001b[39;00m \u001b[39mnp\u001b[39;00m      \u001b[39m# um zufÃ¤llige arrays zu generieren\u001b[39;00m\n\u001b[0;32m      2\u001b[0m \u001b[39mimport\u001b[39;00m \u001b[39mtime\u001b[39;00m             \u001b[39m# zur zeitmessung\u001b[39;00m\n\u001b[0;32m      3\u001b[0m \u001b[39mimport\u001b[39;00m \u001b[39mseaborn\u001b[39;00m \u001b[39mas\u001b[39;00m \u001b[39msns\u001b[39;00m   \u001b[39m# zum plotten\u001b[39;00m\n",
      "\u001b[1;31mModuleNotFoundError\u001b[0m: No module named 'numpy'"
     ]
    }
   ],
   "source": [
    "import numpy as np      # um zufÃ¤llige arrays zu generieren\n",
    "import time             # zur zeitmessung\n",
    "import seaborn as sns   # zum plotten"
   ]
  },
  {
   "cell_type": "markdown",
   "metadata": {},
   "source": [
    "####  1. Implementieren Sie Selection Sort und Quicksort in Python"
   ]
  },
  {
   "cell_type": "code",
   "execution_count": null,
   "metadata": {},
   "outputs": [],
   "source": [
    "def selectionSort(array):\n",
    "  n = len(array)\n",
    "  # Iterate through the array\n",
    "  for i in range(n):\n",
    "    # Find the minimum element in the unsorted portion of the array\n",
    "    min_index = i\n",
    "    for j in range(i+1, n):\n",
    "      if array[j] < array[min_index]:\n",
    "        min_index = j\n",
    "    # Swap the minimum element with the first element of the unsorted portion\n",
    "    buffer = array[i]\n",
    "    array[i] = array[min_index]\n",
    "    array[min_index] = buffer\n",
    "  return array"
   ]
  },
  {
   "cell_type": "code",
   "execution_count": null,
   "metadata": {
    "tags": []
   },
   "outputs": [
    {
     "name": "stdout",
     "output_type": "stream",
     "text": [
      "[1, 5, 7, 8]\n"
     ]
    }
   ],
   "source": [
    "array = [7,5,8,1] \n",
    "selectionSort(array)\n",
    "print(array) # das sortierte array"
   ]
  },
  {
   "cell_type": "code",
   "execution_count": null,
   "metadata": {},
   "outputs": [],
   "source": [
    "def quickSort(array):\n",
    "  if len(array) <= 1:\n",
    "    return array\n",
    "  pivot = array[len(array) // 2]\n",
    "  left = []\n",
    "  middle = []\n",
    "  right = []\n",
    "  for i in range(len(array)):\n",
    "    if array[i] < pivot:\n",
    "      left.append(array[i])\n",
    "    elif array [i] == pivot:\n",
    "      middle.append(array[i])\n",
    "    else:\n",
    "      right.append(array[i])\n",
    "  return quickSort(left) + middle + quickSort(right)"
   ]
  },
  {
   "cell_type": "code",
   "execution_count": null,
   "metadata": {},
   "outputs": [
    {
     "name": "stdout",
     "output_type": "stream",
     "text": [
      "[1, 5, 7, 8]\n"
     ]
    }
   ],
   "source": [
    "array = [7,5,8,1] \n",
    "quickSort(array)\n",
    "print(quickSort(array)) # das sortierte array"
   ]
  },
  {
   "attachments": {},
   "cell_type": "markdown",
   "metadata": {},
   "source": [
    "#### 4. Testen Sie die Korrektheit Ihrer Implementierungen anhand von verschiedenen Testfällen"
   ]
  },
  {
   "cell_type": "code",
   "execution_count": null,
   "metadata": {},
   "outputs": [],
   "source": [
    "assert selectionSort([]) == [], \"Should be []\"\n",
    "assert selectionSort([1]) == [1], \"Should be [1]\"\n",
    "assert selectionSort([1,0]) == [0,1], \"Should be [0,1]\"\n",
    "assert selectionSort([1,2]) == [1,2], \"Should be [1,2]\"\n",
    "assert selectionSort([2,1]) == [1,2], \"Should be [1,2]\"\n",
    "assert selectionSort([1,2,3,4,5,6]) == [1,2,3,4,5,6], \"Should be [1,2,3,4,5,6]\"\n",
    "assert selectionSort([6,5,4,3,2,1]) == [1,2,3,4,5,6], \"Should be [1,2,3,4,5,6]\"\n",
    "assert selectionSort([-2,2,0]) == [-2,0,2], \"Should be [-2,0,2]\"\n",
    "assert selectionSort([-20,-10,-30]) == [-30,-20,-10], \"Should be [-30,-20,-10]\"\n",
    "assert selectionSort([-20,-10,-30,0,2022,4382,5]) == [-30,-20,-10,0,5,2022,4382], \"Should be [-30,-20,-10,0,5,2022,4382]\"\n",
    "assert selectionSort([0,-2.5,3.7,3.2,3,8.1,-2.3]) == [-2.5,-2.3,0,3,3.2,3.7,8.1], \"Should be [-2.5,-2.3,0,3,3.2,3.7,8.1]\"\n",
    "\n",
    "\n",
    "assert quickSort([]) == [], \"Should be []\"\n",
    "assert quickSort([1]) == [1], \"Should be [1]\"\n",
    "assert quickSort([1,0]) == [0,1], \"Should be [0,1]\"\n",
    "assert quickSort([1,2]) == [1,2], \"Should be [1,2]\"\n",
    "assert quickSort([2,1]) == [1,2], \"Should be [1,2]\"\n",
    "assert quickSort([1,2,3,4,5,6]) == [1,2,3,4,5,6], \"Should be [1,2,3,4,5,6]\"\n",
    "assert quickSort([6,5,4,3,2,1]) == [1,2,3,4,5,6], \"Should be [1,2,3,4,5,6]\"\n",
    "assert quickSort([-2,2,0]) == [-2,0,2], \"Should be [-2,0,2]\"\n",
    "assert quickSort([-20,-10,-30]) == [-30,-20,-10], \"Should be [-30,-20,-10]\"\n",
    "assert quickSort([-20,-10,-30,0,2022,4382,5]) == [-30,-20,-10,0,5,2022,4382], \"Should be [-30,-20,-10,0,5,2022,4382]\"\n",
    "assert quickSort([0,-2.5,3.7,3.2,3,8.1,-2.3]) == [-2.5,-2.3,0,3,3.2,3.7,8.1], \"Should be [-2.5,-2.3,0,3,3.2,3.7,8.1]\"\n"
   ]
  },
  {
   "cell_type": "markdown",
   "metadata": {},
   "source": [
    "#### 5. Messen Sie die Laufzeit der beiden Sortieralgorithmen auf Ihrem Rechner."
   ]
  },
  {
   "cell_type": "code",
   "execution_count": null,
   "metadata": {
    "tags": []
   },
   "outputs": [
    {
     "ename": "NameError",
     "evalue": "name 'np' is not defined",
     "output_type": "error",
     "traceback": [
      "\u001b[1;31m---------------------------------------------------------------------------\u001b[0m",
      "\u001b[1;31mNameError\u001b[0m                                 Traceback (most recent call last)",
      "Cell \u001b[1;32mIn[7], line 5\u001b[0m\n\u001b[0;32m      2\u001b[0m arrar_sizes \u001b[39m=\u001b[39m  [\u001b[39m10\u001b[39m, \u001b[39m100\u001b[39m, \u001b[39m500\u001b[39m, \u001b[39m1000\u001b[39m, \u001b[39m1500\u001b[39m, \u001b[39m2000\u001b[39m, \u001b[39m2500\u001b[39m, \u001b[39m3000\u001b[39m, \u001b[39m5000\u001b[39m, \u001b[39m7500\u001b[39m, \u001b[39m10000\u001b[39m] \u001b[39m# messung fÃ¼r verschiedenen array-lÃ¤ngen\u001b[39;00m\n\u001b[0;32m      3\u001b[0m \u001b[39mfor\u001b[39;00m size \u001b[39min\u001b[39;00m arrar_sizes:\n\u001b[0;32m      4\u001b[0m     \u001b[39m# ziehe ein zufÃ¤lliges array\u001b[39;00m\n\u001b[1;32m----> 5\u001b[0m     np\u001b[39m.\u001b[39mrandom\u001b[39m.\u001b[39mseed(\u001b[39m0\u001b[39m)\n\u001b[0;32m      6\u001b[0m     array \u001b[39m=\u001b[39m np\u001b[39m.\u001b[39mrandom\u001b[39m.\u001b[39mrandint(low\u001b[39m=\u001b[39m\u001b[39m0\u001b[39m, high\u001b[39m=\u001b[39m\u001b[39m1000000\u001b[39m, size\u001b[39m=\u001b[39msize) \n\u001b[0;32m      7\u001b[0m     start \u001b[39m=\u001b[39m time\u001b[39m.\u001b[39mtime()\n",
      "\u001b[1;31mNameError\u001b[0m: name 'np' is not defined"
     ]
    }
   ],
   "source": [
    "s_times, q_times = [], []\n",
    "arrar_sizes =  [10, 100, 500, 1000, 1500, 2000, 2500, 3000, 5000, 7500, 10000] # messung fÃ¼r verschiedenen array-lÃ¤ngen\n",
    "for size in arrar_sizes:\n",
    "    # ziehe ein zufÃ¤lliges array\n",
    "    np.random.seed(0)\n",
    "    array = np.random.randint(low=0, high=1000000, size=size) \n",
    "    start = time.time()\n",
    "    # hier sortieren mit selection sort - wie geht das?\n",
    "    end = time.time()\n",
    "    s_times.append(end-start) # die zeit in sekunden\n",
    "\n",
    "    # und dann jetzt noch fÃ¼r quicksort :)"
   ]
  },
  {
   "attachments": {},
   "cell_type": "markdown",
   "metadata": {},
   "source": [
    "#### 6. Erstellen Sie einen geeignent Plot, der die Laufzeit der beiden Algorithmen in AbhÃ¤ngigkeit von der Eingabelänge darstellt"
   ]
  },
  {
   "cell_type": "code",
   "execution_count": null,
   "metadata": {},
   "outputs": [],
   "source": [
    "# Hier kommet der Plot!"
   ]
  },
  {
   "attachments": {},
   "cell_type": "markdown",
   "metadata": {
    "tags": []
   },
   "source": [
    "#### 7. Erstellen Sie für die beiden Sortieralgorithmen jeweils einen Plot, in dem gemessene Laufzeit durch die entsprechende asymptotische Laufzeitentwicklung approximiert wird."
   ]
  },
  {
   "cell_type": "code",
   "execution_count": null,
   "metadata": {},
   "outputs": [],
   "source": [
    "# Hier kommen die Plots!"
   ]
  },
  {
   "attachments": {},
   "cell_type": "markdown",
   "metadata": {},
   "source": [
    "#### 8. Vergleichen Sie die Laufzeit ihrer effizienten Implementierungen mit der Laufzeit der nativen sort() Funktion für Listen in Python"
   ]
  },
  {
   "cell_type": "code",
   "execution_count": null,
   "metadata": {},
   "outputs": [],
   "source": [
    "# Hier kommt eure Laufzeitanalyse!"
   ]
  }
 ],
 "metadata": {
  "kernelspec": {
   "display_name": "Python 3.9.7 64-bit",
   "language": "python",
   "name": "python3"
  },
  "language_info": {
   "codemirror_mode": {
    "name": "ipython",
    "version": 3
   },
   "file_extension": ".py",
   "mimetype": "text/x-python",
   "name": "python",
   "nbconvert_exporter": "python",
   "pygments_lexer": "ipython3",
   "version": "3.9.7"
  },
  "vscode": {
   "interpreter": {
    "hash": "11938c6bc6919ae2720b4d5011047913343b08a43b18698fd82dedb0d4417594"
   }
  }
 },
 "nbformat": 4,
 "nbformat_minor": 4
}
