{
 "cells": [
  {
   "cell_type": "markdown",
   "metadata": {},
   "source": [
    "# Notebook zu Blatt 8"
   ]
  },
  {
   "cell_type": "code",
   "execution_count": null,
   "metadata": {},
   "outputs": [],
   "source": [
    "!pip install numpy seaborn"
   ]
  },
  {
   "cell_type": "code",
   "execution_count": null,
   "metadata": {},
   "outputs": [],
   "source": [
    "import numpy as np      # um zufÃ¤llige arrays zu generieren\n",
    "import time             # zur zeitmessung\n",
    "import seaborn as sns   # zum plotten"
   ]
  },
  {
   "cell_type": "markdown",
   "metadata": {},
   "source": [
    "####  1. Implementieren Sie Selection Sort und Quicksort in Python"
   ]
  },
  {
   "cell_type": "code",
   "execution_count": null,
   "metadata": {},
   "outputs": [],
   "source": [
    "def selectionSort(array):\n",
    "    pass # hier Eure Implementierung :)"
   ]
  },
  {
   "cell_type": "code",
   "execution_count": null,
   "metadata": {
    "tags": []
   },
   "outputs": [],
   "source": [
    "array = [7,5,8,1] \n",
    "selectionSort(array)\n",
    "print(array) # das sortierte array"
   ]
  },
  {
   "cell_type": "code",
   "execution_count": null,
   "metadata": {},
   "outputs": [],
   "source": [
    "def quickSort(array):\n",
    "        pass # hier Eure Implementierung :)"
   ]
  },
  {
   "cell_type": "code",
   "execution_count": null,
   "metadata": {},
   "outputs": [],
   "source": [
    "array = [7,5,8,1] \n",
    "quickSort(array)\n",
    "print(array) # das sortierte array"
   ]
  },
  {
   "attachments": {},
   "cell_type": "markdown",
   "metadata": {},
   "source": [
    "#### 4. Testen Sie die Korrektheit Ihrer Implementierungen anhand von verschiedenen Testfällen"
   ]
  },
  {
   "cell_type": "code",
   "execution_count": null,
   "metadata": {},
   "outputs": [],
   "source": [
    "# Hier kommen die TestfÃ¤lle!"
   ]
  },
  {
   "cell_type": "markdown",
   "metadata": {},
   "source": [
    "#### 5. Messen Sie die Laufzeit der beiden Sortieralgorithmen auf Ihrem Rechner."
   ]
  },
  {
   "cell_type": "code",
   "execution_count": null,
   "metadata": {
    "tags": []
   },
   "outputs": [],
   "source": [
    "s_times, q_times = [], []\n",
    "arrar_sizes =  [10, 100, 500, 1000, 1500, 2000, 2500, 3000, 5000, 7500, 10000] # messung fÃ¼r verschiedenen array-lÃ¤ngen\n",
    "for size in arrar_sizes:\n",
    "    # ziehe ein zufÃ¤lliges array\n",
    "    np.random.seed(0)\n",
    "    array = np.random.randint(low=0, high=1000000, size=size) \n",
    "    start = time.time()\n",
    "    # hier sortieren mit selection sort - wie geht das?\n",
    "    end = time.time()\n",
    "    s_times.append(end-start) # die zeit in sekunden\n",
    "\n",
    "    # und dann jetzt noch fÃ¼r quicksort :)"
   ]
  },
  {
   "attachments": {},
   "cell_type": "markdown",
   "metadata": {},
   "source": [
    "#### 6. Erstellen Sie einen geeignent Plot, der die Laufzeit der beiden Algorithmen in AbhÃ¤ngigkeit von der Eingabelänge darstellt"
   ]
  },
  {
   "cell_type": "code",
   "execution_count": null,
   "metadata": {},
   "outputs": [],
   "source": [
    "# Hier kommet der Plot!"
   ]
  },
  {
   "attachments": {},
   "cell_type": "markdown",
   "metadata": {
    "tags": []
   },
   "source": [
    "#### 7. Erstellen Sie für die beiden Sortieralgorithmen jeweils einen Plot, in dem gemessene Laufzeit durch die entsprechende asymptotische Laufzeitentwicklung approximiert wird."
   ]
  },
  {
   "cell_type": "code",
   "execution_count": null,
   "metadata": {},
   "outputs": [],
   "source": [
    "#Ermittle C für Selectionsort\n",
    "square =arrar_sizes*np.array(arrar_sizes)\n",
    "s_C = s_times[-1] / square[-1]                           # Wir suchen C sd. möglichst 'Laufzeit'=C*n^2\n",
    "print(\"C für Selectionsort:\",s_C)\n",
    "#Plot für Selectionsort\n",
    "s_asympt = s_C*square                                   # = C*n^2\n",
    "sns.lineplot(x = arrar_sizes, y = s_times, linestyle=\"dashed\", marker=\"o\", label=\"tatsächliche Laufzeit\") \n",
    "sns.lineplot(x = arrar_sizes, y = s_asympt, linestyle=\"dashed\", marker=\"o\", label=\"geschätzte asymptotische Laufzeit\") \n",
    "plt.title(\"Tatsächliche und geschätzte asymptotische Laufzeit von Selectionsort\")    \n",
    "plt.legend(loc=\"best\")                                         \n",
    "plt.xlabel(\"Eingabelänge\")                                   \n",
    "plt.ylabel(\"Laufzeit in s\")\n",
    "plt.show()\n",
    "\n",
    "#Ermittle C für Quicksort\n",
    "nlogn =arrar_sizes*np.log10(arrar_sizes)\n",
    "q_C = q_times[-1] / nlogn[-1]                           # Wir suchen C sd. möglichst 'Laufzeit'=C*n*log(n)\n",
    "print(\"C für Quicksort:\",q_C)\n",
    "#Plot für Quicksort\n",
    "q_asympt = q_C*nlogn                                   # = C*n*log(n)\n",
    "sns.lineplot(x = arrar_sizes, y = q_times, linestyle=\"dashed\", marker=\"o\", label=\"tatsächliche Laufzeit\") \n",
    "sns.lineplot(x = arrar_sizes, y = q_asympt, linestyle=\"dashed\", marker=\"o\", label=\"geschätzte asymptotische Laufzeit\") \n",
    "plt.title(\"Tatsächliche und geschätzte asymptotische Laufzeit von Quicksort\")    \n",
    "plt.legend(loc=\"best\")                                         \n",
    "plt.xlabel(\"Eingabelänge\")                                   \n",
    "plt.ylabel(\"Laufzeit in s\")\n",
    "plt.show()"
   ]
  },
  {
   "attachments": {},
   "cell_type": "markdown",
   "metadata": {},
   "source": [
    "#### 8. Vergleichen Sie die Laufzeit ihrer effizienten Implementierungen mit der Laufzeit der nativen sort() Funktion für Listen in Python"
   ]
  },
  {
   "cell_type": "code",
   "execution_count": null,
   "metadata": {},
   "outputs": [],
   "source": [
    "# Hier kommt eure Laufzeitanalyse!"
   ]
  }
 ],
 "metadata": {
  "kernelspec": {
   "display_name": "Python 3",
   "language": "python",
   "name": "python3"
  },
  "language_info": {
   "codemirror_mode": {
    "name": "ipython",
    "version": 3
   },
   "file_extension": ".py",
   "mimetype": "text/x-python",
   "name": "python",
   "nbconvert_exporter": "python",
   "pygments_lexer": "ipython3",
   "version": "3.10.9 (tags/v3.10.9:1dd9be6, Dec  6 2022, 20:01:21) [MSC v.1934 64 bit (AMD64)]"
  },
  "vscode": {
   "interpreter": {
    "hash": "9289c829aa1743eb9e0dfb6573618d384a40b91c3f9dff11121ae996f24eebdd"
   }
  }
 },
 "nbformat": 4,
 "nbformat_minor": 4
}
