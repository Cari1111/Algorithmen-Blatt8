{
 "cells": [
  {
   "cell_type": "markdown",
   "metadata": {},
   "source": [
    "# Notebook zu Blatt 8"
   ]
  },
  {
   "cell_type": "code",
   "execution_count": 1,
   "metadata": {},
   "outputs": [
    {
     "name": "stdout",
     "output_type": "stream",
     "text": [
      "Collecting numpy\n",
      "  Downloading numpy-1.24.0-cp311-cp311-win_amd64.whl (14.8 MB)\n",
      "     ---------------------------------------- 14.8/14.8 MB 4.6 MB/s eta 0:00:00\n",
      "Collecting seaborn\n",
      "  Using cached seaborn-0.12.1-py3-none-any.whl (288 kB)\n",
      "Collecting pandas>=0.25\n",
      "  Downloading pandas-1.5.2-cp311-cp311-win_amd64.whl (10.3 MB)\n",
      "     ---------------------------------------- 10.3/10.3 MB 4.0 MB/s eta 0:00:00\n",
      "Collecting matplotlib!=3.6.1,>=3.1\n",
      "  Downloading matplotlib-3.6.2-cp311-cp311-win_amd64.whl (7.2 MB)\n",
      "     ---------------------------------------- 7.2/7.2 MB 3.9 MB/s eta 0:00:00\n",
      "Collecting contourpy>=1.0.1\n",
      "  Downloading contourpy-1.0.6-cp311-cp311-win_amd64.whl (163 kB)\n",
      "     -------------------------------------- 163.6/163.6 kB 3.3 MB/s eta 0:00:00\n",
      "Collecting cycler>=0.10\n",
      "  Using cached cycler-0.11.0-py3-none-any.whl (6.4 kB)\n",
      "Collecting fonttools>=4.22.0\n",
      "  Using cached fonttools-4.38.0-py3-none-any.whl (965 kB)\n",
      "Collecting kiwisolver>=1.0.1\n",
      "  Downloading kiwisolver-1.4.4-cp311-cp311-win_amd64.whl (55 kB)\n",
      "     ---------------------------------------- 55.4/55.4 kB 2.8 MB/s eta 0:00:00\n",
      "Requirement already satisfied: packaging>=20.0 in c:\\users\\carina\\appdata\\local\\programs\\python\\python311\\lib\\site-packages (from matplotlib!=3.6.1,>=3.1->seaborn) (22.0)\n",
      "Collecting pillow>=6.2.0\n",
      "  Downloading Pillow-9.3.0-cp311-cp311-win_amd64.whl (2.5 MB)\n",
      "     ---------------------------------------- 2.5/2.5 MB 4.6 MB/s eta 0:00:00\n",
      "Collecting pyparsing>=2.2.1\n",
      "  Using cached pyparsing-3.0.9-py3-none-any.whl (98 kB)\n",
      "Requirement already satisfied: python-dateutil>=2.7 in c:\\users\\carina\\appdata\\local\\programs\\python\\python311\\lib\\site-packages (from matplotlib!=3.6.1,>=3.1->seaborn) (2.8.2)\n",
      "Collecting pytz>=2020.1\n",
      "  Using cached pytz-2022.7-py2.py3-none-any.whl (499 kB)\n",
      "Requirement already satisfied: six>=1.5 in c:\\users\\carina\\appdata\\local\\programs\\python\\python311\\lib\\site-packages (from python-dateutil>=2.7->matplotlib!=3.6.1,>=3.1->seaborn) (1.16.0)\n",
      "Installing collected packages: pytz, pyparsing, pillow, numpy, kiwisolver, fonttools, cycler, pandas, contourpy, matplotlib, seaborn\n",
      "Successfully installed contourpy-1.0.6 cycler-0.11.0 fonttools-4.38.0 kiwisolver-1.4.4 matplotlib-3.6.2 numpy-1.24.0 pandas-1.5.2 pillow-9.3.0 pyparsing-3.0.9 pytz-2022.7 seaborn-0.12.1\n",
      "Note: you may need to restart the kernel to use updated packages.\n"
     ]
    }
   ],
   "source": [
    "%pip install numpy seaborn"
   ]
  },
  {
   "cell_type": "code",
   "execution_count": 2,
   "metadata": {},
   "outputs": [],
   "source": [
    "import numpy as np      # um zufÃ¤llige arrays zu generieren\n",
    "import time             # zur zeitmessung\n",
    "import seaborn as sns   # zum plotten"
   ]
  },
  {
   "cell_type": "markdown",
   "metadata": {},
   "source": [
    "####  1. Implementieren Sie Selection Sort und Quicksort in Python"
   ]
  },
  {
   "cell_type": "code",
   "execution_count": null,
   "metadata": {},
   "outputs": [],
   "source": [
    "def selectionSort(array):\n",
    "  n = len(array)\n",
    "  # Iterate through the array\n",
    "  for i in range(n):\n",
    "    # Find the minimum element in the unsorted portion of the array\n",
    "    min_index = i\n",
    "    for j in range(i+1, n):\n",
    "      if array[j] < array[min_index]:\n",
    "        min_index = j\n",
    "    # Swap the minimum element with the first element of the unsorted portion\n",
    "    buffer = array[i]\n",
    "    array[i] = array[min_index]\n",
    "    array[min_index] = buffer\n",
    "  return array"
   ]
  },
  {
   "cell_type": "code",
   "execution_count": null,
   "metadata": {
    "tags": []
   },
   "outputs": [
    {
     "name": "stdout",
     "output_type": "stream",
     "text": [
      "[1, 5, 7, 8]\n"
     ]
    }
   ],
   "source": [
    "array = [7,5,8,1] \n",
    "selectionSort(array)\n",
    "print(array) # das sortierte array"
   ]
  },
  {
   "cell_type": "code",
   "execution_count": null,
   "metadata": {},
   "outputs": [],
   "source": [
    "def quickSort(array):\n",
    "  if len(array) <= 1:\n",
    "    return array\n",
    "  pivot = array[len(array) // 2]\n",
    "  left = []\n",
    "  middle = []\n",
    "  right = []\n",
    "  for i in range(len(array)):\n",
    "    if array[i] < pivot:\n",
    "      left.append(array[i])\n",
    "    elif array [i] == pivot:\n",
    "      middle.append(array[i])\n",
    "    else:\n",
    "      right.append(array[i])\n",
    "  return quickSort(left) + middle + quickSort(right)"
   ]
  },
  {
   "cell_type": "code",
   "execution_count": null,
   "metadata": {},
   "outputs": [
    {
     "name": "stdout",
     "output_type": "stream",
     "text": [
      "[1, 5, 7, 8]\n"
     ]
    }
   ],
   "source": [
    "array = [7,5,8,1] \n",
    "quickSort(array)\n",
    "print(quickSort(array)) # das sortierte array"
   ]
  },
  {
   "attachments": {},
   "cell_type": "markdown",
   "metadata": {},
   "source": [
    "#### 4. Testen Sie die Korrektheit Ihrer Implementierungen anhand von verschiedenen Testfällen"
   ]
  },
  {
   "cell_type": "code",
   "execution_count": null,
   "metadata": {},
   "outputs": [],
   "source": [
    "assert selectionSort([]) == [], \"Should be []\"\n",
    "assert selectionSort([1]) == [1], \"Should be [1]\"\n",
    "assert selectionSort([1,0]) == [0,1], \"Should be [0,1]\"\n",
    "assert selectionSort([1,2]) == [1,2], \"Should be [1,2]\"\n",
    "assert selectionSort([2,1]) == [1,2], \"Should be [1,2]\"\n",
    "assert selectionSort([1,2,3,4,5,6]) == [1,2,3,4,5,6], \"Should be [1,2,3,4,5,6]\"\n",
    "assert selectionSort([6,5,4,3,2,1]) == [1,2,3,4,5,6], \"Should be [1,2,3,4,5,6]\"\n",
    "assert selectionSort([-2,2,0]) == [-2,0,2], \"Should be [-2,0,2]\"\n",
    "assert selectionSort([-20,-10,-30]) == [-30,-20,-10], \"Should be [-30,-20,-10]\"\n",
    "assert selectionSort([-20,-10,-30,0,2022,4382,5]) == [-30,-20,-10,0,5,2022,4382], \"Should be [-30,-20,-10,0,5,2022,4382]\"\n",
    "assert selectionSort([0,-2.5,3.7,3.2,3,8.1,-2.3]) == [-2.5,-2.3,0,3,3.2,3.7,8.1], \"Should be [-2.5,-2.3,0,3,3.2,3.7,8.1]\"\n",
    "\n",
    "\n",
    "assert quickSort([]) == [], \"Should be []\"\n",
    "assert quickSort([1]) == [1], \"Should be [1]\"\n",
    "assert quickSort([1,0]) == [0,1], \"Should be [0,1]\"\n",
    "assert quickSort([1,2]) == [1,2], \"Should be [1,2]\"\n",
    "assert quickSort([2,1]) == [1,2], \"Should be [1,2]\"\n",
    "assert quickSort([1,2,3,4,5,6]) == [1,2,3,4,5,6], \"Should be [1,2,3,4,5,6]\"\n",
    "assert quickSort([6,5,4,3,2,1]) == [1,2,3,4,5,6], \"Should be [1,2,3,4,5,6]\"\n",
    "assert quickSort([-2,2,0]) == [-2,0,2], \"Should be [-2,0,2]\"\n",
    "assert quickSort([-20,-10,-30]) == [-30,-20,-10], \"Should be [-30,-20,-10]\"\n",
    "assert quickSort([-20,-10,-30,0,2022,4382,5]) == [-30,-20,-10,0,5,2022,4382], \"Should be [-30,-20,-10,0,5,2022,4382]\"\n",
    "assert quickSort([0,-2.5,3.7,3.2,3,8.1,-2.3]) == [-2.5,-2.3,0,3,3.2,3.7,8.1], \"Should be [-2.5,-2.3,0,3,3.2,3.7,8.1]\"\n"
   ]
  },
  {
   "cell_type": "markdown",
   "metadata": {},
   "source": [
    "#### 5. Messen Sie die Laufzeit der beiden Sortieralgorithmen auf Ihrem Rechner."
   ]
  },
  {
   "cell_type": "code",
   "execution_count": null,
   "metadata": {
    "tags": []
   },
   "outputs": [
    {
     "ename": "NameError",
     "evalue": "name 'np' is not defined",
     "output_type": "error",
     "traceback": [
      "\u001b[1;31m---------------------------------------------------------------------------\u001b[0m",
      "\u001b[1;31mNameError\u001b[0m                                 Traceback (most recent call last)",
      "Cell \u001b[1;32mIn[7], line 5\u001b[0m\n\u001b[0;32m      2\u001b[0m arrar_sizes \u001b[39m=\u001b[39m  [\u001b[39m10\u001b[39m, \u001b[39m100\u001b[39m, \u001b[39m500\u001b[39m, \u001b[39m1000\u001b[39m, \u001b[39m1500\u001b[39m, \u001b[39m2000\u001b[39m, \u001b[39m2500\u001b[39m, \u001b[39m3000\u001b[39m, \u001b[39m5000\u001b[39m, \u001b[39m7500\u001b[39m, \u001b[39m10000\u001b[39m] \u001b[39m# messung fÃ¼r verschiedenen array-lÃ¤ngen\u001b[39;00m\n\u001b[0;32m      3\u001b[0m \u001b[39mfor\u001b[39;00m size \u001b[39min\u001b[39;00m arrar_sizes:\n\u001b[0;32m      4\u001b[0m     \u001b[39m# ziehe ein zufÃ¤lliges array\u001b[39;00m\n\u001b[1;32m----> 5\u001b[0m     np\u001b[39m.\u001b[39mrandom\u001b[39m.\u001b[39mseed(\u001b[39m0\u001b[39m)\n\u001b[0;32m      6\u001b[0m     array \u001b[39m=\u001b[39m np\u001b[39m.\u001b[39mrandom\u001b[39m.\u001b[39mrandint(low\u001b[39m=\u001b[39m\u001b[39m0\u001b[39m, high\u001b[39m=\u001b[39m\u001b[39m1000000\u001b[39m, size\u001b[39m=\u001b[39msize) \n\u001b[0;32m      7\u001b[0m     start \u001b[39m=\u001b[39m time\u001b[39m.\u001b[39mtime()\n",
      "\u001b[1;31mNameError\u001b[0m: name 'np' is not defined"
     ]
    }
   ],
   "source": [
    "s_times, q_times = [], []\n",
    "arrar_sizes =  [10, 100, 500, 1000, 1500, 2000, 2500, 3000, 5000, 7500, 10000] # messung fÃ¼r verschiedenen array-lÃ¤ngen\n",
    "for size in arrar_sizes:\n",
    "    # ziehe ein zufÃ¤lliges array\n",
    "    np.random.seed(0)\n",
    "    array = np.random.randint(low=0, high=1000000, size=size) \n",
    "    start = time.time()\n",
    "    # hier sortieren mit selection sort - wie geht das?\n",
    "    end = time.time()\n",
    "    s_times.append(end-start) # die zeit in sekunden\n",
    "\n",
    "    # und dann jetzt noch fÃ¼r quicksort :)"
   ]
  },
  {
   "attachments": {},
   "cell_type": "markdown",
   "metadata": {},
   "source": [
    "#### 6. Erstellen Sie einen geeignent Plot, der die Laufzeit der beiden Algorithmen in AbhÃ¤ngigkeit von der Eingabelänge darstellt"
   ]
  },
  {
   "cell_type": "code",
   "execution_count": null,
   "metadata": {},
   "outputs": [],
   "source": [
    "# Hier kommet der Plot!"
   ]
  },
  {
   "attachments": {},
   "cell_type": "markdown",
   "metadata": {
    "tags": []
   },
   "source": [
    "#### 7. Erstellen Sie für die beiden Sortieralgorithmen jeweils einen Plot, in dem gemessene Laufzeit durch die entsprechende asymptotische Laufzeitentwicklung approximiert wird."
   ]
  },
  {
   "cell_type": "code",
   "execution_count": null,
   "metadata": {},
   "outputs": [],
   "source": [
    "# Hier kommen die Plots!"
   ]
  },
  {
   "attachments": {},
   "cell_type": "markdown",
   "metadata": {},
   "source": [
    "#### 8. Vergleichen Sie die Laufzeit ihrer effizienten Implementierungen mit der Laufzeit der nativen sort() Funktion für Listen in Python"
   ]
  },
  {
   "cell_type": "code",
   "execution_count": 8,
   "metadata": {},
   "outputs": [
    {
     "ename": "TypeError",
     "evalue": "ufunc 'isfinite' not supported for the input types, and the inputs could not be safely coerced to any supported types according to the casting rule ''safe''",
     "output_type": "error",
     "traceback": [
      "\u001b[1;31m---------------------------------------------------------------------------\u001b[0m",
      "\u001b[1;31mTypeError\u001b[0m                                 Traceback (most recent call last)",
      "Cell \u001b[1;32mIn[8], line 46\u001b[0m\n\u001b[0;32m     44\u001b[0m selection_times \u001b[39m=\u001b[39m java_selection_sort()\n\u001b[0;32m     45\u001b[0m \u001b[39m#Plot\u001b[39;00m\n\u001b[1;32m---> 46\u001b[0m sns\u001b[39m.\u001b[39;49mlineplot(x \u001b[39m=\u001b[39;49m arrar_sizes, y \u001b[39m=\u001b[39;49m native_sort(), linestyle\u001b[39m=\u001b[39;49m\u001b[39m\"\u001b[39;49m\u001b[39mdashed\u001b[39;49m\u001b[39m\"\u001b[39;49m, marker\u001b[39m=\u001b[39;49m\u001b[39m\"\u001b[39;49m\u001b[39mo\u001b[39;49m\u001b[39m\"\u001b[39;49m, label\u001b[39m=\u001b[39;49m\u001b[39m\"\u001b[39;49m\u001b[39mnative sort()\u001b[39;49m\u001b[39m\"\u001b[39;49m) \n\u001b[0;32m     47\u001b[0m sns\u001b[39m.\u001b[39mlineplot(x \u001b[39m=\u001b[39m arrar_sizes, y \u001b[39m=\u001b[39m selection_times, linestyle\u001b[39m=\u001b[39m\u001b[39m\"\u001b[39m\u001b[39mdashed\u001b[39m\u001b[39m\"\u001b[39m, marker\u001b[39m=\u001b[39m\u001b[39m\"\u001b[39m\u001b[39mo\u001b[39m\u001b[39m\"\u001b[39m, label\u001b[39m=\u001b[39m\u001b[39m\"\u001b[39m\u001b[39mgeschätzte asymptotische Laufzeit\u001b[39m\u001b[39m\"\u001b[39m)\n\u001b[0;32m     48\u001b[0m \u001b[39m#sns.lineplot(x = arrar_sizes, y = java_quick_sort(), linestyle=\"dashed\", marker=\"o\", label=\"geschätzte asymptotische Laufzeit\") \u001b[39;00m\n\u001b[0;32m     49\u001b[0m \u001b[39m#plt.title(\"Tatsächliche und geschätzte asymptotische Laufzeit von Selectionsort\")    \u001b[39;00m\n\u001b[0;32m     50\u001b[0m \u001b[39m#plt.legend(loc=\"best\")                                         \u001b[39;00m\n\u001b[0;32m     51\u001b[0m \u001b[39m#plt.xlabel(\"Eingabelänge\")                                   \u001b[39;00m\n\u001b[0;32m     52\u001b[0m \u001b[39m#plt.ylabel(\"Laufzeit in s\")\u001b[39;00m\n\u001b[0;32m     53\u001b[0m \u001b[39m#plt.show()\u001b[39;00m\n",
      "File \u001b[1;32mc:\\Users\\Carina\\AppData\\Local\\Programs\\Python\\Python311\\Lib\\site-packages\\seaborn\\relational.py:645\u001b[0m, in \u001b[0;36mlineplot\u001b[1;34m(data, x, y, hue, size, style, units, palette, hue_order, hue_norm, sizes, size_order, size_norm, dashes, markers, style_order, estimator, errorbar, n_boot, seed, orient, sort, err_style, err_kws, legend, ci, ax, **kwargs)\u001b[0m\n\u001b[0;32m    642\u001b[0m color \u001b[39m=\u001b[39m kwargs\u001b[39m.\u001b[39mpop(\u001b[39m\"\u001b[39m\u001b[39mcolor\u001b[39m\u001b[39m\"\u001b[39m, kwargs\u001b[39m.\u001b[39mpop(\u001b[39m\"\u001b[39m\u001b[39mc\u001b[39m\u001b[39m\"\u001b[39m, \u001b[39mNone\u001b[39;00m))\n\u001b[0;32m    643\u001b[0m kwargs[\u001b[39m\"\u001b[39m\u001b[39mcolor\u001b[39m\u001b[39m\"\u001b[39m] \u001b[39m=\u001b[39m _default_color(ax\u001b[39m.\u001b[39mplot, hue, color, kwargs)\n\u001b[1;32m--> 645\u001b[0m p\u001b[39m.\u001b[39;49mplot(ax, kwargs)\n\u001b[0;32m    646\u001b[0m \u001b[39mreturn\u001b[39;00m ax\n",
      "File \u001b[1;32mc:\\Users\\Carina\\AppData\\Local\\Programs\\Python\\Python311\\Lib\\site-packages\\seaborn\\relational.py:489\u001b[0m, in \u001b[0;36m_LinePlotter.plot\u001b[1;34m(self, ax, kws)\u001b[0m\n\u001b[0;32m    486\u001b[0m \u001b[39mif\u001b[39;00m \u001b[39mself\u001b[39m\u001b[39m.\u001b[39merr_style \u001b[39m==\u001b[39m \u001b[39m\"\u001b[39m\u001b[39mband\u001b[39m\u001b[39m\"\u001b[39m:\n\u001b[0;32m    488\u001b[0m     func \u001b[39m=\u001b[39m {\u001b[39m\"\u001b[39m\u001b[39mx\u001b[39m\u001b[39m\"\u001b[39m: ax\u001b[39m.\u001b[39mfill_between, \u001b[39m\"\u001b[39m\u001b[39my\u001b[39m\u001b[39m\"\u001b[39m: ax\u001b[39m.\u001b[39mfill_betweenx}[orient]\n\u001b[1;32m--> 489\u001b[0m     func(\n\u001b[0;32m    490\u001b[0m         sub_data[orient],\n\u001b[0;32m    491\u001b[0m         sub_data[\u001b[39mf\u001b[39;49m\u001b[39m\"\u001b[39;49m\u001b[39m{\u001b[39;49;00mother\u001b[39m}\u001b[39;49;00m\u001b[39mmin\u001b[39;49m\u001b[39m\"\u001b[39;49m], sub_data[\u001b[39mf\u001b[39;49m\u001b[39m\"\u001b[39;49m\u001b[39m{\u001b[39;49;00mother\u001b[39m}\u001b[39;49;00m\u001b[39mmax\u001b[39;49m\u001b[39m\"\u001b[39;49m],\n\u001b[0;32m    492\u001b[0m         color\u001b[39m=\u001b[39;49mline_color, \u001b[39m*\u001b[39;49m\u001b[39m*\u001b[39;49merr_kws\n\u001b[0;32m    493\u001b[0m     )\n\u001b[0;32m    495\u001b[0m \u001b[39melif\u001b[39;00m \u001b[39mself\u001b[39m\u001b[39m.\u001b[39merr_style \u001b[39m==\u001b[39m \u001b[39m\"\u001b[39m\u001b[39mbars\u001b[39m\u001b[39m\"\u001b[39m:\n\u001b[0;32m    497\u001b[0m     error_param \u001b[39m=\u001b[39m {\n\u001b[0;32m    498\u001b[0m         \u001b[39mf\u001b[39m\u001b[39m\"\u001b[39m\u001b[39m{\u001b[39;00mother\u001b[39m}\u001b[39;00m\u001b[39merr\u001b[39m\u001b[39m\"\u001b[39m: (\n\u001b[0;32m    499\u001b[0m             sub_data[other] \u001b[39m-\u001b[39m sub_data[\u001b[39mf\u001b[39m\u001b[39m\"\u001b[39m\u001b[39m{\u001b[39;00mother\u001b[39m}\u001b[39;00m\u001b[39mmin\u001b[39m\u001b[39m\"\u001b[39m],\n\u001b[0;32m    500\u001b[0m             sub_data[\u001b[39mf\u001b[39m\u001b[39m\"\u001b[39m\u001b[39m{\u001b[39;00mother\u001b[39m}\u001b[39;00m\u001b[39mmax\u001b[39m\u001b[39m\"\u001b[39m] \u001b[39m-\u001b[39m sub_data[other],\n\u001b[0;32m    501\u001b[0m         )\n\u001b[0;32m    502\u001b[0m     }\n",
      "File \u001b[1;32mc:\\Users\\Carina\\AppData\\Local\\Programs\\Python\\Python311\\Lib\\site-packages\\matplotlib\\__init__.py:1423\u001b[0m, in \u001b[0;36m_preprocess_data.<locals>.inner\u001b[1;34m(ax, data, *args, **kwargs)\u001b[0m\n\u001b[0;32m   1420\u001b[0m \u001b[39m@functools\u001b[39m\u001b[39m.\u001b[39mwraps(func)\n\u001b[0;32m   1421\u001b[0m \u001b[39mdef\u001b[39;00m \u001b[39minner\u001b[39m(ax, \u001b[39m*\u001b[39margs, data\u001b[39m=\u001b[39m\u001b[39mNone\u001b[39;00m, \u001b[39m*\u001b[39m\u001b[39m*\u001b[39mkwargs):\n\u001b[0;32m   1422\u001b[0m     \u001b[39mif\u001b[39;00m data \u001b[39mis\u001b[39;00m \u001b[39mNone\u001b[39;00m:\n\u001b[1;32m-> 1423\u001b[0m         \u001b[39mreturn\u001b[39;00m func(ax, \u001b[39m*\u001b[39;49m\u001b[39mmap\u001b[39;49m(sanitize_sequence, args), \u001b[39m*\u001b[39;49m\u001b[39m*\u001b[39;49mkwargs)\n\u001b[0;32m   1425\u001b[0m     bound \u001b[39m=\u001b[39m new_sig\u001b[39m.\u001b[39mbind(ax, \u001b[39m*\u001b[39margs, \u001b[39m*\u001b[39m\u001b[39m*\u001b[39mkwargs)\n\u001b[0;32m   1426\u001b[0m     auto_label \u001b[39m=\u001b[39m (bound\u001b[39m.\u001b[39marguments\u001b[39m.\u001b[39mget(label_namer)\n\u001b[0;32m   1427\u001b[0m                   \u001b[39mor\u001b[39;00m bound\u001b[39m.\u001b[39mkwargs\u001b[39m.\u001b[39mget(label_namer))\n",
      "File \u001b[1;32mc:\\Users\\Carina\\AppData\\Local\\Programs\\Python\\Python311\\Lib\\site-packages\\matplotlib\\axes\\_axes.py:5367\u001b[0m, in \u001b[0;36mAxes.fill_between\u001b[1;34m(self, x, y1, y2, where, interpolate, step, **kwargs)\u001b[0m\n\u001b[0;32m   5365\u001b[0m \u001b[39mdef\u001b[39;00m \u001b[39mfill_between\u001b[39m(\u001b[39mself\u001b[39m, x, y1, y2\u001b[39m=\u001b[39m\u001b[39m0\u001b[39m, where\u001b[39m=\u001b[39m\u001b[39mNone\u001b[39;00m, interpolate\u001b[39m=\u001b[39m\u001b[39mFalse\u001b[39;00m,\n\u001b[0;32m   5366\u001b[0m                  step\u001b[39m=\u001b[39m\u001b[39mNone\u001b[39;00m, \u001b[39m*\u001b[39m\u001b[39m*\u001b[39mkwargs):\n\u001b[1;32m-> 5367\u001b[0m     \u001b[39mreturn\u001b[39;00m \u001b[39mself\u001b[39;49m\u001b[39m.\u001b[39;49m_fill_between_x_or_y(\n\u001b[0;32m   5368\u001b[0m         \u001b[39m\"\u001b[39;49m\u001b[39mx\u001b[39;49m\u001b[39m\"\u001b[39;49m, x, y1, y2,\n\u001b[0;32m   5369\u001b[0m         where\u001b[39m=\u001b[39;49mwhere, interpolate\u001b[39m=\u001b[39;49minterpolate, step\u001b[39m=\u001b[39;49mstep, \u001b[39m*\u001b[39;49m\u001b[39m*\u001b[39;49mkwargs)\n",
      "File \u001b[1;32mc:\\Users\\Carina\\AppData\\Local\\Programs\\Python\\Python311\\Lib\\site-packages\\matplotlib\\axes\\_axes.py:5272\u001b[0m, in \u001b[0;36mAxes._fill_between_x_or_y\u001b[1;34m(self, ind_dir, ind, dep1, dep2, where, interpolate, step, **kwargs)\u001b[0m\n\u001b[0;32m   5268\u001b[0m         kwargs[\u001b[39m\"\u001b[39m\u001b[39mfacecolor\u001b[39m\u001b[39m\"\u001b[39m] \u001b[39m=\u001b[39m \\\n\u001b[0;32m   5269\u001b[0m             \u001b[39mself\u001b[39m\u001b[39m.\u001b[39m_get_patches_for_fill\u001b[39m.\u001b[39mget_next_color()\n\u001b[0;32m   5271\u001b[0m \u001b[39m# Handle united data, such as dates\u001b[39;00m\n\u001b[1;32m-> 5272\u001b[0m ind, dep1, dep2 \u001b[39m=\u001b[39m \u001b[39mmap\u001b[39m(\n\u001b[0;32m   5273\u001b[0m     ma\u001b[39m.\u001b[39mmasked_invalid, \u001b[39mself\u001b[39m\u001b[39m.\u001b[39m_process_unit_info(\n\u001b[0;32m   5274\u001b[0m         [(ind_dir, ind), (dep_dir, dep1), (dep_dir, dep2)], kwargs))\n\u001b[0;32m   5276\u001b[0m \u001b[39mfor\u001b[39;00m name, array \u001b[39min\u001b[39;00m [\n\u001b[0;32m   5277\u001b[0m         (ind_dir, ind), (\u001b[39mf\u001b[39m\u001b[39m\"\u001b[39m\u001b[39m{\u001b[39;00mdep_dir\u001b[39m}\u001b[39;00m\u001b[39m1\u001b[39m\u001b[39m\"\u001b[39m, dep1), (\u001b[39mf\u001b[39m\u001b[39m\"\u001b[39m\u001b[39m{\u001b[39;00mdep_dir\u001b[39m}\u001b[39;00m\u001b[39m2\u001b[39m\u001b[39m\"\u001b[39m, dep2)]:\n\u001b[0;32m   5278\u001b[0m     \u001b[39mif\u001b[39;00m array\u001b[39m.\u001b[39mndim \u001b[39m>\u001b[39m \u001b[39m1\u001b[39m:\n",
      "File \u001b[1;32mc:\\Users\\Carina\\AppData\\Local\\Programs\\Python\\Python311\\Lib\\site-packages\\numpy\\ma\\core.py:2360\u001b[0m, in \u001b[0;36mmasked_invalid\u001b[1;34m(a, copy)\u001b[0m\n\u001b[0;32m   2332\u001b[0m \u001b[39mdef\u001b[39;00m \u001b[39mmasked_invalid\u001b[39m(a, copy\u001b[39m=\u001b[39m\u001b[39mTrue\u001b[39;00m):\n\u001b[0;32m   2333\u001b[0m     \u001b[39m\"\"\"\u001b[39;00m\n\u001b[0;32m   2334\u001b[0m \u001b[39m    Mask an array where invalid values occur (NaNs or infs).\u001b[39;00m\n\u001b[0;32m   2335\u001b[0m \n\u001b[1;32m   (...)\u001b[0m\n\u001b[0;32m   2357\u001b[0m \n\u001b[0;32m   2358\u001b[0m \u001b[39m    \"\"\"\u001b[39;00m\n\u001b[1;32m-> 2360\u001b[0m     \u001b[39mreturn\u001b[39;00m masked_where(\u001b[39m~\u001b[39m(np\u001b[39m.\u001b[39;49misfinite(getdata(a))), a, copy\u001b[39m=\u001b[39mcopy)\n",
      "\u001b[1;31mTypeError\u001b[0m: ufunc 'isfinite' not supported for the input types, and the inputs could not be safely coerced to any supported types according to the casting rule ''safe''"
     ]
    },
    {
     "data": {
      "image/png": "[encoded data removed]",
      "text/plain": [
       "<Figure size 640x480 with 1 Axes>"
      ]
     },
     "metadata": {},
     "output_type": "display_data"
    }
   ],
   "source": [
    "import os.path,subprocess\n",
    "from subprocess import STDOUT,PIPE\n",
    "\n",
    "arrar_sizes =  [10, 100, 500, 1000, 1500, 2000, 2500, 3000, 5000, 7500, 10000] # messung für verschiedenen array-längen\n",
    "\n",
    "# Quelle: https://stackoverflow.com/questions/49492655/call-java-program-with-arguments-from-python-and-return-results-back-to-python\n",
    "def compile_java_sort():\n",
    "    subprocess.check_call(['javac', 'CustomSort/Sorting.java'])\n",
    "\n",
    "def execute_java_sort(sample_size, sort):\n",
    "    java_class,ext = os.path.splitext('CustomSort/Sorting.java')\n",
    "    cmd = ['java', java_class, str(sample_size), sort]\n",
    "    proc = subprocess.Popen(cmd, stdout=PIPE, stderr=STDOUT)\n",
    "    stdout,stderr = proc.communicate()\n",
    "    return float(stdout)\n",
    "\n",
    "def java_selection_sort():\n",
    "    result = []\n",
    "    for size in arrar_sizes:\n",
    "        result.append(execute_java_sort(size, \"selection\"))\n",
    "    return result\n",
    "\n",
    "def java_quick_sort():\n",
    "    result = []\n",
    "    for size in arrar_sizes:\n",
    "        result.append(execute_java_sort(size, \"quick\"))\n",
    "    return result\n",
    "\n",
    "def native_sort():\n",
    "    result = []\n",
    "    compile_java_sort()\n",
    "    for size in arrar_sizes:\n",
    "        # ziehe ein zufälliges array\n",
    "        np.random.seed(0)\n",
    "        array = np.random.randint(low=0, high=1000000, size=size) \n",
    "        start = time.time_ns()\n",
    "        array.sort()\n",
    "        end = time.time_ns()\n",
    "        result.append(end-start)\n",
    "    return result\n",
    "\n",
    "\n",
    "compile_java_sort()\n",
    "#Plot\n",
    "sns.lineplot(x = arrar_sizes, y = native_sort(), linestyle=\"dashed\", marker=\"o\", label=\"native sort()\") \n",
    "sns.lineplot(x = arrar_sizes, y = java_selection_sort(), linestyle=\"dashed\", marker=\"o\", label=\"geschätzte asymptotische Laufzeit\")\n",
    "sns.lineplot(x = arrar_sizes, y = java_quick_sort(), linestyle=\"dashed\", marker=\"o\", label=\"geschätzte asymptotische Laufzeit\") \n",
    "plt.title(\"Vergleich von unseren effizienten Algorithmen zum nativen Sortieralgorithmus\")    \n",
    "#plt.legend(loc=\"best\")                                         \n",
    "plt.xlabel(\"Eingabelänge\")                                   \n",
    "plt.ylabel(\"Laufzeit in ns\")\n",
    "plt.show()"
   ]
  }
 ],
 "metadata": {
  "kernelspec": {
   "display_name": "Python 3",
   "language": "python",
   "name": "python3"
  },
  "language_info": {
   "codemirror_mode": {
    "name": "ipython",
    "version": 3
   },
   "file_extension": ".py",
   "mimetype": "text/x-python",
   "name": "python",
   "nbconvert_exporter": "python",
   "pygments_lexer": "ipython3",
   "version": "3.11.1"
  },
  "vscode": {
   "interpreter": {
    "hash": "aa7632e192a66c3333ffea14cdedf8bb86ec75b3c8e2d862c056fea84af1c599"
   }
  }
 },
 "nbformat": 4,
 "nbformat_minor": 4
}
