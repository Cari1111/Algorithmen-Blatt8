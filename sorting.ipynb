{
 "cells": [
  {
   "cell_type": "markdown",
   "metadata": {},
   "source": [
    "# Notebook zu Blatt 8"
   ]
  },
  {
   "cell_type": "code",
   "execution_count": null,
   "metadata": {},
   "outputs": [],
   "source": [
    "!pip install numpy seaborn"
   ]
  },
  {
   "cell_type": "code",
   "execution_count": null,
   "metadata": {},
   "outputs": [],
   "source": [
    "import numpy as np      # um zufÃ¤llige arrays zu generieren\n",
    "import time             # zur zeitmessung\n",
    "import seaborn as sns   # zum plotten\n",
    "import matplotlib.pyplot as plt #zum plotten"
   ]
  },
  {
   "cell_type": "markdown",
   "metadata": {},
   "source": [
    "####  1. Implementieren Sie Selection Sort und Quicksort in Python"
   ]
  },
  {
   "cell_type": "code",
   "execution_count": null,
   "metadata": {},
   "outputs": [],
   "source": [
    "def selectionSort(array):\n",
    "  n = len(array)\n",
    "  # Iterate through the array\n",
    "  for i in range(n):\n",
    "    # Find the minimum element in the unsorted portion of the array\n",
    "    min_index = i\n",
    "    for j in range(i+1, n):\n",
    "      if array[j] < array[min_index]:\n",
    "        min_index = j\n",
    "    # Swap the minimum element with the first element of the unsorted portion\n",
    "    buffer = array[i]\n",
    "    array[i] = array[min_index]\n",
    "    array[min_index] = buffer\n",
    "  return array"
   ]
  },
  {
   "cell_type": "code",
   "execution_count": null,
   "metadata": {
    "tags": []
   },
   "outputs": [],
   "source": [
    "array = [7,5,8,1] \n",
    "selectionSort(array)\n",
    "print(array) # das sortierte array"
   ]
  },
  {
   "cell_type": "code",
   "execution_count": null,
   "metadata": {},
   "outputs": [],
   "source": [
    "def quickSort(array):\n",
    "  if len(array) <= 1:\n",
    "    return array\n",
    "  pivot = array[len(array) // 2]\n",
    "  left = []\n",
    "  middle = []\n",
    "  right = []\n",
    "  for i in range(len(array)):\n",
    "    if array[i] < pivot:\n",
    "      left.append(array[i])\n",
    "    elif array [i] == pivot:\n",
    "      middle.append(array[i])\n",
    "    else:\n",
    "      right.append(array[i])\n",
    "  return quickSort(left) + middle + quickSort(right)"
   ]
  },
  {
   "cell_type": "code",
   "execution_count": null,
   "metadata": {},
   "outputs": [],
   "source": [
    "array = [7,5,8,1] \n",
    "print(quickSort(array)) # das sortierte array"
   ]
  },
  {
   "attachments": {},
   "cell_type": "markdown",
   "metadata": {},
   "source": [
    "#### 4. Testen Sie die Korrektheit Ihrer Implementierungen anhand von verschiedenen Testfällen"
   ]
  },
  {
   "cell_type": "code",
   "execution_count": null,
   "metadata": {},
   "outputs": [],
   "source": [
    "assert selectionSort([]) == [], \"Should be []\"\n",
    "assert selectionSort([1]) == [1], \"Should be [1]\"\n",
    "assert selectionSort([1,0]) == [0,1], \"Should be [0,1]\"\n",
    "assert selectionSort([1,2]) == [1,2], \"Should be [1,2]\"\n",
    "assert selectionSort([2,1]) == [1,2], \"Should be [1,2]\"\n",
    "assert selectionSort([1,2,3,4,5,6]) == [1,2,3,4,5,6], \"Should be [1,2,3,4,5,6]\"\n",
    "assert selectionSort([6,5,4,3,2,1]) == [1,2,3,4,5,6], \"Should be [1,2,3,4,5,6]\"\n",
    "assert selectionSort([-2,2,0]) == [-2,0,2], \"Should be [-2,0,2]\"\n",
    "assert selectionSort([-20,-10,-30]) == [-30,-20,-10], \"Should be [-30,-20,-10]\"\n",
    "assert selectionSort([-20,-10,-30,0,2022,4382,5]) == [-30,-20,-10,0,5,2022,4382], \"Should be [-30,-20,-10,0,5,2022,4382]\"\n",
    "assert selectionSort([0,-2.5,3.7,3.2,3,8.1,-2.3]) == [-2.5,-2.3,0,3,3.2,3.7,8.1], \"Should be [-2.5,-2.3,0,3,3.2,3.7,8.1]\"\n",
    "\n",
    "\n",
    "assert quickSort([]) == [], \"Should be []\"\n",
    "assert quickSort([1]) == [1], \"Should be [1]\"\n",
    "assert quickSort([1,0]) == [0,1], \"Should be [0,1]\"\n",
    "assert quickSort([1,2]) == [1,2], \"Should be [1,2]\"\n",
    "assert quickSort([2,1]) == [1,2], \"Should be [1,2]\"\n",
    "assert quickSort([1,2,3,4,5,6]) == [1,2,3,4,5,6], \"Should be [1,2,3,4,5,6]\"\n",
    "assert quickSort([6,5,4,3,2,1]) == [1,2,3,4,5,6], \"Should be [1,2,3,4,5,6]\"\n",
    "assert quickSort([-2,2,0]) == [-2,0,2], \"Should be [-2,0,2]\"\n",
    "assert quickSort([-20,-10,-30]) == [-30,-20,-10], \"Should be [-30,-20,-10]\"\n",
    "assert quickSort([-20,-10,-30,0,2022,4382,5]) == [-30,-20,-10,0,5,2022,4382], \"Should be [-30,-20,-10,0,5,2022,4382]\"\n",
    "assert quickSort([0,-2.5,3.7,3.2,3,8.1,-2.3]) == [-2.5,-2.3,0,3,3.2,3.7,8.1], \"Should be [-2.5,-2.3,0,3,3.2,3.7,8.1]\"\n"
   ]
  },
  {
   "cell_type": "markdown",
   "metadata": {},
   "source": [
    "#### 5. Messen Sie die Laufzeit der beiden Sortieralgorithmen auf Ihrem Rechner."
   ]
  },
  {
   "cell_type": "code",
   "execution_count": null,
   "metadata": {
    "tags": []
   },
   "outputs": [],
   "source": [
    "s_times, q_times = [], []\n",
    "arrar_sizes =  [10, 100, 500, 1000, 1500, 2000, 2500, 3000, 5000, 7500, 10000] # messung fÃ¼r verschiedenen array-lÃ¤ngen\n",
    "for size in arrar_sizes:\n",
    "    # ziehe ein zufÃ¤lliges array\n",
    "    np.random.seed(0)\n",
    "    array = np.random.randint(low=0, high=1000000, size=size) \n",
    "    start = time.time()\n",
    "    # hier sortieren mit selection sort - wie geht das?\n",
    "    selectionSort(array)\n",
    "    end = time.time()\n",
    "    s_times.append(end-start) # die zeit in sekunden\n",
    "\n",
    "    # und dann jetzt noch fÃ¼r quicksort :)\n",
    "    # ziehe ein zufÃ¤lliges array\n",
    "    np.random.seed(0)\n",
    "    array = np.random.randint(low=0, high=1000000, size=size) \n",
    "    start = time.time()\n",
    "    quickSort(array)\n",
    "    end = time.time()\n",
    "    q_times.append(end-start) # die zeit in sekunden\n",
    "\n",
    "print(s_times)\n",
    "print(q_times)"
   ]
  },
  {
   "attachments": {},
   "cell_type": "markdown",
   "metadata": {},
   "source": [
    "#### 6. Erstellen Sie einen geeignent Plot, der die Laufzeit der beiden Algorithmen in AbhÃ¤ngigkeit von der Eingabelänge darstellt"
   ]
  },
  {
   "cell_type": "code",
   "execution_count": null,
   "metadata": {},
   "outputs": [],
   "source": [
    "sns.lineplot(x = arrar_sizes, y = s_times, linestyle=\"dashed\", marker=\"o\", label=\"Selection Sort\") \n",
    "sns.lineplot(x = arrar_sizes, y = q_times, linestyle=\"dashed\", marker=\"o\", label=\"Quicksort\") \n",
    "plt.title(\"Laufzeit von Selectionsort und Quicksort im Vergleich\")    \n",
    "plt.legend(loc=\"best\")                                         \n",
    "plt.xlabel(\"Eingabelänge\")                                   \n",
    "plt.ylabel(\"Laufzeit in s\")\n",
    "plt.show()"
   ]
  },
  {
   "attachments": {},
   "cell_type": "markdown",
   "metadata": {
    "tags": []
   },
   "source": [
    "#### 7. Erstellen Sie für die beiden Sortieralgorithmen jeweils einen Plot, in dem gemessene Laufzeit durch die entsprechende asymptotische Laufzeitentwicklung approximiert wird."
   ]
  },
  {
   "cell_type": "code",
   "execution_count": null,
   "metadata": {},
   "outputs": [],
   "source": [
    "#Ermittle C für Selectionsort\n",
    "square =arrar_sizes*np.array(arrar_sizes)\n",
    "s_C = s_times[-1] / square[-1]                           # Wir suchen C sd. möglichst 'Laufzeit'=C*n^2\n",
    "print(\"C für Selectionsort:\",s_C)\n",
    "#Plot für Selectionsort\n",
    "s_asympt = s_C*square                                   # = C*n^2\n",
    "sns.lineplot(x = arrar_sizes, y = s_times, linestyle=\"dashed\", marker=\"o\", label=\"tatsächliche Laufzeit\") \n",
    "sns.lineplot(x = arrar_sizes, y = s_asympt, linestyle=\"dashed\", marker=\"o\", label=\"geschätzte asymptotische Laufzeit\") \n",
    "plt.title(\"Tatsächliche und geschätzte asymptotische Laufzeit von Selectionsort\")    \n",
    "plt.legend(loc=\"best\")                                         \n",
    "plt.xlabel(\"Eingabelänge\")                                   \n",
    "plt.ylabel(\"Laufzeit in s\")\n",
    "plt.show()\n",
    "\n",
    "#Ermittle C für Quicksort\n",
    "nlogn =arrar_sizes*np.log10(arrar_sizes)\n",
    "q_C = q_times[-1] / nlogn[-1]                           # Wir suchen C sd. möglichst 'Laufzeit'=C*n*log(n)\n",
    "print(\"C für Quicksort:\",q_C)\n",
    "#Plot für Quicksort\n",
    "q_asympt = q_C*nlogn                                   # = C*n*log(n)\n",
    "sns.lineplot(x = arrar_sizes, y = q_times, linestyle=\"dashed\", marker=\"o\", label=\"tatsächliche Laufzeit\") \n",
    "sns.lineplot(x = arrar_sizes, y = q_asympt, linestyle=\"dashed\", marker=\"o\", label=\"geschätzte asymptotische Laufzeit\") \n",
    "plt.title(\"Tatsächliche und geschätzte asymptotische Laufzeit von Quicksort\")    \n",
    "plt.legend(loc=\"best\")                                         \n",
    "plt.xlabel(\"Eingabelänge\")                                   \n",
    "plt.ylabel(\"Laufzeit in s\")\n",
    "plt.show()"
   ]
  },
  {
   "attachments": {},
   "cell_type": "markdown",
   "metadata": {},
   "source": [
    "#### 8. Vergleichen Sie die Laufzeit ihrer effizienten Implementierungen mit der Laufzeit der nativen sort() Funktion für Listen in Python"
   ]
  },
  {
   "cell_type": "code",
   "execution_count": null,
   "metadata": {},
   "outputs": [],
   "source": [
    "# Hier kommt eure Laufzeitanalyse!"
   ]
  }
 ],
 "metadata": {
  "kernelspec": {
   "display_name": "Python 3",
   "language": "python",
   "name": "python3"
  },
  "language_info": {
   "codemirror_mode": {
    "name": "ipython",
    "version": 3
   },
   "file_extension": ".py",
   "mimetype": "text/x-python",
   "name": "python",
   "nbconvert_exporter": "python",
   "pygments_lexer": "ipython3",
   "version": "3.10.5 (tags/v3.10.5:f377153, Jun  6 2022, 16:14:13) [MSC v.1929 64 bit (AMD64)]"
  },
  "vscode": {
   "interpreter": {
    "hash": "6146323b8c0237035f18293208afbed4861fba4c74f8cb01af905f70108a64ea"
   }
  }
 },
 "nbformat": 4,
 "nbformat_minor": 4
}
